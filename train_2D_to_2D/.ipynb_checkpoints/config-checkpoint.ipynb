{
 "cells": [
  {
   "cell_type": "code",
   "execution_count": null,
   "id": "439eb8cb-a037-45e1-a282-d67bc642f7e7",
   "metadata": {},
   "outputs": [],
   "source": [
    "import easydict\n",
    "\n",
    "FLAGS = easydict.EasyDict({\n",
    "    \"img_path\": \"./Data_set/training_data/2D\",\n",
    "    \"save_path\": \"/data/swhong/Deeplearning/2D-GAN/Non-C\",\n",
    "    \"batch_size\": 128,\n",
    "    \"epochs\": 100,\n",
    "    \"lr\": 0.00001,\n",
    "    \"input_shape\": (128, 128, 1),\n",
    "    \"int_filt_size\": 32,\n",
    "    \"save_num\": 8,\n",
    "    \"pre_checkpoint\": True,\n",
    "    \"pre_checkpoint_path\": \"/data/swhong/Deeplearning/2D-GAN/Non-C/Date_0425/epoch_33-4\"\n",
    "})\n",
    "\n",
    "generator_optimizer = tf.keras.optimizers.Adam(FLAGS.lr, beta_1=0.5)\n",
    "discriminator_optimizer = tf.keras.optimizers.Adam(FLAGS.lr, beta_1=0.5)\n",
    "col_val = [i for i in range(FLAGS.input_shape[0])]"
   ]
  }
 ],
 "metadata": {
  "kernelspec": {
   "display_name": "Python 3 (ipykernel)",
   "language": "python",
   "name": "python3"
  },
  "language_info": {
   "codemirror_mode": {
    "name": "ipython",
    "version": 3
   },
   "file_extension": ".py",
   "mimetype": "text/x-python",
   "name": "python",
   "nbconvert_exporter": "python",
   "pygments_lexer": "ipython3",
   "version": "3.9.7"
  }
 },
 "nbformat": 4,
 "nbformat_minor": 5
}
