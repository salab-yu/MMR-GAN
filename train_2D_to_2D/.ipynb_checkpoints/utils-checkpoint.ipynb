{
 "cells": [
  {
   "cell_type": "code",
   "execution_count": null,
   "id": "439eb8cb-a037-45e1-a282-d67bc642f7e7",
   "metadata": {},
   "outputs": [],
   "source": [
    "import tensorflow as tf\n",
    "import matplotlib.pyplot as plt\n",
    "import numpy as np\n",
    "\n",
    "def abs_criterion(input, target):\n",
    "    return tf.reduce_mean(tf.abs(input - target))\n",
    "\n",
    "def mae_criterion(input, target):\n",
    "    return tf.reduce_mean((input - target) ** 2)\n",
    "\n",
    "def cal_loss(A_batch_images_buf, B_batch_images_buf, A2B_gener, B_dis, generator_optimizer, discriminator_optimizer):\n",
    "    with tf.GradientTape(persistent=True) as g_tape, tf.GradientTape(persistent=True) as d_tape:\n",
    "        fake_B = A2B_gener(A_batch_images_buf, training=True)\n",
    "        DB_fake = B_dis(fake_B, training=True)\n",
    "        DB_real = B_dis(B_batch_images_buf, training=True)\n",
    "        g_loss = mae_criterion(DB_fake, tf.ones_like(DB_fake)) + (10.0 * abs_criterion(B_batch_images_buf, fake_B))\n",
    "        d_loss = (mae_criterion(DB_real, tf.ones_like(DB_real)) +\n",
    "                  mae_criterion(DB_fake, tf.zeros_like(DB_fake))) / 2\n",
    "    generator_gradients = g_tape.gradient(g_loss, A2B_gener.trainable_variables)\n",
    "    discriminator_gradients = d_tape.gradient(d_loss, B_dis.trainable_variables)\n",
    "    generator_optimizer.apply_gradients(zip(generator_gradients, A2B_gener.trainable_variables))\n",
    "    discriminator_optimizer.apply_gradients(zip(discriminator_gradients, B_dis.trainable_variables))\n",
    "    return g_loss, d_loss\n",
    "\n",
    "def how_real(Real, Fake):\n",
    "    Real_img = np.clip(Real, 0, 255).astype('uint8')\n",
    "    Fake_img = np.clip(Fake, 0, 255).astype('uint8')\n",
    "    figure, ax = plt.subplots(nrows=2, ncols=2, figsize=(5, 5))\n",
    "    ax.ravel()[0].imshow(Fake_img[0], cmap='gray')\n",
    "    ax.ravel()[0].set_title('Fake img 1', size=15, color='white')\n",
    "    ax.ravel()[0].axis('off')\n",
    "    ax.ravel()[1].imshow(Real_img[0], cmap='gray')\n",
    "    ax.ravel()[1].set_title('Real img 1', size=15, color='white')\n",
    "    ax.ravel()[1].axis('off')\n",
    "    ax.ravel()[2].imshow(Fake_img[1], cmap='gray')\n",
    "    ax.ravel()[2].set_title('Fake img 2', size=15, color='white')\n",
    "    ax.ravel()[2].axis('off')\n",
    "    ax.ravel()[3].imshow(Real_img[1], cmap='gray')\n",
    "    ax.ravel()[3].set_title('Real img 2', size=15, color='white')\n",
    "    ax.ravel()[3].axis('off')\n",
    "    plt.tight_layout()\n",
    "    plt.show()"
   ]
  }
 ],
 "metadata": {
  "kernelspec": {
   "display_name": "Python 3 (ipykernel)",
   "language": "python",
   "name": "python3"
  },
  "language_info": {
   "codemirror_mode": {
    "name": "ipython",
    "version": 3
   },
   "file_extension": ".py",
   "mimetype": "text/x-python",
   "name": "python",
   "nbconvert_exporter": "python",
   "pygments_lexer": "ipython3",
   "version": "3.9.7"
  }
 },
 "nbformat": 4,
 "nbformat_minor": 5
}
