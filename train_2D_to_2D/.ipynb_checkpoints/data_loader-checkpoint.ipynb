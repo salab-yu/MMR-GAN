{
 "cells": [
  {
   "cell_type": "code",
   "execution_count": null,
   "id": "439eb8cb-a037-45e1-a282-d67bc642f7e7",
   "metadata": {},
   "outputs": [],
   "source": [
    "import numpy as np\n",
    "import os\n",
    "from config import FLAGS\n",
    "\n",
    "def func_ge_B_data(data_name):\n",
    "    data = np.loadtxt(data_name, dtype=np.int32, skiprows=0, usecols=range(FLAGS.input_shape[0]))\n",
    "    data = np.array(data, np.float32)\n",
    "    return data\n",
    "\n",
    "def func_ge_A_data(data):\n",
    "    data2 = data.reshape(-1)\n",
    "    for i in range(2):\n",
    "        data2 = np.random.permutation(data2)\n",
    "    data2 = data2.reshape(FLAGS.input_shape[:2])\n",
    "    return data2"
   ]
  }
 ],
 "metadata": {
  "kernelspec": {
   "display_name": "Python 3 (ipykernel)",
   "language": "python",
   "name": "python3"
  },
  "language_info": {
   "codemirror_mode": {
    "name": "ipython",
    "version": 3
   },
   "file_extension": ".py",
   "mimetype": "text/x-python",
   "name": "python",
   "nbconvert_exporter": "python",
   "pygments_lexer": "ipython3",
   "version": "3.9.7"
  }
 },
 "nbformat": 4,
 "nbformat_minor": 5
}
