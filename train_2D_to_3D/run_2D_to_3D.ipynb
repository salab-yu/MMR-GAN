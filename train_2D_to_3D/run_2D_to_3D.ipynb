{
 "cells": [
  {
   "cell_type": "code",
   "execution_count": null,
   "id": "2b5e7fdd-db90-4df2-b80e-8fe8d0255d26",
   "metadata": {},
   "outputs": [],
   "source": [
    "import sys\n",
    "sys.path.append('.')  #\n",
    "\n",
    "from config import FLAGS, generator_optimizer, discriminator_optimizer, col_val\n",
    "from models import generator_model, discriminator_model\n",
    "from data_loader import func_ge_A_data, func_ge_B_data\n",
    "from utils import abs_criterion, mae_criterion, cal_loss, how_real\n",
    "from train import main\n",
    "\n",
    "main()"
   ]
  },
  {
   "cell_type": "code",
   "execution_count": null,
   "id": "5854042a-e94d-4199-bc2d-265fec6c073c",
   "metadata": {},
   "outputs": [],
   "source": []
  }
 ],
 "metadata": {
  "kernelspec": {
   "display_name": "Python 3 (ipykernel)",
   "language": "python",
   "name": "python3"
  },
  "language_info": {
   "codemirror_mode": {
    "name": "ipython",
    "version": 3
   },
   "file_extension": ".py",
   "mimetype": "text/x-python",
   "name": "python",
   "nbconvert_exporter": "python",
   "pygments_lexer": "ipython3",
   "version": "3.9.7"
  }
 },
 "nbformat": 4,
 "nbformat_minor": 5
}
