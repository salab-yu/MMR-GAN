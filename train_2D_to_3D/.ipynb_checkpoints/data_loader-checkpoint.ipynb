{
 "cells": [
  {
   "cell_type": "code",
   "execution_count": null,
   "id": "2b5e7fdd-db90-4df2-b80e-8fe8d0255d26",
   "metadata": {},
   "outputs": [],
   "source": [
    "import os\n",
    "import numpy as np\n",
    "from config import FLAGS\n",
    "\n",
    "def func_ge_A_data(data_name):\n",
    "    temp_data = os.listdir(data_name)\n",
    "    temp_data.sort()\n",
    "    data = np.loadtxt(data_name + \"/\" + temp_data[0],\n",
    "                      dtype=np.int32,\n",
    "                      skiprows=0,\n",
    "                      usecols=col_val)\n",
    "    data = data.reshape(-1)\n",
    "    data = np.random.permutation(data)\n",
    "    data = data.reshape(FLAGS.input_shape[:2])\n",
    "    data = np.expand_dims(data, -1)\n",
    "        \n",
    "    return data\n",
    "\n",
    "def func_ge_B_data(data_name):\n",
    "    temp_data = os.listdir(data_name)\n",
    "    temp_data.sort()\n",
    "    data_temp1 = np.loadtxt(data_name + \"/\" + temp_data[0],\n",
    "                       dtype=np.int32,\n",
    "                       skiprows=0,\n",
    "                       usecols=col_val)\n",
    "    data_temp1 = np.expand_dims(data_temp1, -1)\n",
    "    \n",
    "    data_temp2 = np.loadtxt(data_name + \"/\" + temp_data[1],\n",
    "                       dtype=np.int32,\n",
    "                       skiprows=0,\n",
    "                       usecols=col_val)\n",
    "    data_temp2 = np.expand_dims(data_temp2, -1)\n",
    "    \n",
    "    data = np.concatenate((data_temp1, data_temp2), axis = 2)\n",
    "    \n",
    "    for i in range(len(temp_data)-2):\n",
    "        data_temp3 = np.loadtxt(data_name + \"/\" + temp_data[i + 2],\n",
    "                       dtype=np.int32,\n",
    "                       skiprows=0,\n",
    "                       usecols=col_val)\n",
    "        data_temp3 = np.expand_dims(data_temp3, -1)\n",
    "        \n",
    "        data = np.concatenate((data, data_temp3), axis = 2)\n",
    "\n",
    "    return data"
   ]
  }
 ],
 "metadata": {
  "kernelspec": {
   "display_name": "Python 3 (ipykernel)",
   "language": "python",
   "name": "python3"
  },
  "language_info": {
   "codemirror_mode": {
    "name": "ipython",
    "version": 3
   },
   "file_extension": ".py",
   "mimetype": "text/x-python",
   "name": "python",
   "nbconvert_exporter": "python",
   "pygments_lexer": "ipython3",
   "version": "3.9.7"
  }
 },
 "nbformat": 4,
 "nbformat_minor": 5
}
