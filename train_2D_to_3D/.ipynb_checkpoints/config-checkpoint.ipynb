{
 "cells": [
  {
   "cell_type": "code",
   "execution_count": null,
   "id": "2b5e7fdd-db90-4df2-b80e-8fe8d0255d26",
   "metadata": {},
   "outputs": [],
   "source": [
    "import easydict\n",
    "\n",
    "FLAGS = easydict.EasyDict({\n",
    "    \"A_img_path\": \"/home/swhong/projects/GAN/Data_set/training_data/3D/Discrete_phase2/\",\n",
    "    \"B_img_path\": \"/home/swhong/projects/GAN/Data_set/training_data/3D/Full_phase/\",\n",
    "    \"lab_path\": \"/home/swhong/projects/GAN/Data_set/training_data/3D/Discrete_label.txt\",\n",
    "    \"save_path\": \"/data2/swhong/projects/GAN/3D-GAN/permutation_model\",\n",
    "    \"batch_size\": 16,\n",
    "    \"epochs\": 400,\n",
    "    \"lr\": 0.0004,\n",
    "    \"input_shape\": (128, 128, 1),\n",
    "    \"save_num\": 8,\n",
    "    \"int_filt_size\": 4,\n",
    "    \"pre_checkpoint\": False,\n",
    "    \"pre_checkpoint_path\": \"\"\n",
    "})\n",
    "\n",
    "generator_optimizer = tf.keras.optimizers.Adam(FLAGS.lr, beta_1=0.5)\n",
    "discriminator_optimizer = tf.keras.optimizers.Adam(FLAGS.lr, beta_1=0.5)\n",
    "col_val = [i for i in range(FLAGS.input_shape[0])]"
   ]
  }
 ],
 "metadata": {
  "kernelspec": {
   "display_name": "Python 3 (ipykernel)",
   "language": "python",
   "name": "python3"
  },
  "language_info": {
   "codemirror_mode": {
    "name": "ipython",
    "version": 3
   },
   "file_extension": ".py",
   "mimetype": "text/x-python",
   "name": "python",
   "nbconvert_exporter": "python",
   "pygments_lexer": "ipython3",
   "version": "3.9.7"
  }
 },
 "nbformat": 4,
 "nbformat_minor": 5
}
