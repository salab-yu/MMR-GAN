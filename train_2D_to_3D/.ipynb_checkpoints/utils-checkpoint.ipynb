{
 "cells": [
  {
   "cell_type": "code",
   "execution_count": null,
   "id": "2b5e7fdd-db90-4df2-b80e-8fe8d0255d26",
   "metadata": {},
   "outputs": [],
   "source": [
    "import tensorflow as tf\n",
    "\n",
    "def abs_criterion(input, target):\n",
    "    return tf.reduce_mean(tf.abs(input - target))\n",
    "\n",
    "\n",
    "def mae_criterion(input, target):\n",
    "    return tf.reduce_mean((input - target)**2)\n",
    "\n",
    "\n",
    "def cal_loss(A_batch_images_buf, B_batch_images_buf,\n",
    "             A2B_gener, B_dis):\n",
    "\n",
    "    with tf.GradientTape(persistent=True) as g_tape, tf.GradientTape(persistent=True) as d_tape:\n",
    "        fake_B = A2B_gener(A_batch_images_buf, training=True)\n",
    "\n",
    "        DB_fake = B_dis(fake_B, training=True)\n",
    "        DB_real = B_dis(B_batch_images_buf, training=True)\n",
    "\n",
    "        g_loss = mae_criterion(DB_fake, tf.ones_like(DB_fake)) + (10.0 * abs_criterion(B_batch_images_buf, fake_B))\n",
    "        d_loss = (mae_criterion(DB_real, tf.ones_like(DB_real)) +\n",
    "                       mae_criterion(DB_fake, tf.zeros_like(DB_fake))) / 2\n",
    "\n",
    "    generator_gradients = g_tape.gradient(g_loss, A2B_gener.trainable_variables)\n",
    "    discriminator_gradients = d_tape.gradient(d_loss, B_dis.trainable_variables)\n",
    "\n",
    "    generator_optimizer.apply_gradients(zip(\n",
    "        generator_gradients, A2B_gener.trainable_variables))\n",
    "\n",
    "    discriminator_optimizer.apply_gradients(zip(\n",
    "        discriminator_gradients, B_dis.trainable_variables))\n",
    "\n",
    "    return g_loss, d_loss\n",
    "\n",
    "\n",
    "def how_real(Real, Fake):\n",
    "    Real = (Real + 1) * 1.5\n",
    "    real_0 = len(np.where(Real==0)[0])\n",
    "    real_1 = len(np.where(Real==1)[0])\n",
    "    real_2 = len(np.where(Real==2)[0])\n",
    "    real_3 = len(np.where(Real==3)[0])\n",
    "\n",
    "    fake_0 = len(np.where(Fake==0)[0])\n",
    "    fake_1 = len(np.where(Fake==1)[0])\n",
    "    fake_2 = len(np.where(Fake==2)[0])\n",
    "    fake_3 = len(np.where(Fake==3)[0])\n",
    "    \n",
    "    print(\"Num of 0 => Real: {} / Fake: {}\".format(real_0, fake_0))\n",
    "    print(\"Num of 1 => Real: {} / Fake: {}\".format(real_1, fake_1))\n",
    "    print(\"Num of 2 => Real: {} / Fake: {}\".format(real_2, fake_2))\n",
    "    print(\"Num of 3 => Real: {} / Fake: {}\".format(real_3, fake_3))"
   ]
  }
 ],
 "metadata": {
  "kernelspec": {
   "display_name": "Python 3 (ipykernel)",
   "language": "python",
   "name": "python3"
  },
  "language_info": {
   "codemirror_mode": {
    "name": "ipython",
    "version": 3
   },
   "file_extension": ".py",
   "mimetype": "text/x-python",
   "name": "python",
   "nbconvert_exporter": "python",
   "pygments_lexer": "ipython3",
   "version": "3.9.7"
  }
 },
 "nbformat": 4,
 "nbformat_minor": 5
}
