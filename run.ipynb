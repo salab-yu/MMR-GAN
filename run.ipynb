{
 "cells": [
  {
   "cell_type": "code",
   "execution_count": 1,
   "id": "8bea0997-edb8-488f-a170-b4577889bdc2",
   "metadata": {},
   "outputs": [
    {
     "name": "stderr",
     "output_type": "stream",
     "text": [
      "2024-11-08 11:11:02.445090: I tensorflow/core/platform/cpu_feature_guard.cc:151] This TensorFlow binary is optimized with oneAPI Deep Neural Network Library (oneDNN) to use the following CPU instructions in performance-critical operations:  AVX2 AVX512F FMA\n",
      "To enable them in other operations, rebuild TensorFlow with the appropriate compiler flags.\n",
      "2024-11-08 11:11:02.705228: I tensorflow/core/common_runtime/gpu/gpu_device.cc:1525] Created device /job:localhost/replica:0/task:0/device:GPU:0 with 46755 MB memory:  -> device: 0, name: NVIDIA RTX A6000, pci bus id: 0000:ac:00.0, compute capability: 8.6\n"
     ]
    },
    {
     "name": "stdout",
     "output_type": "stream",
     "text": [
      "2D parameter restored\n"
     ]
    },
    {
     "name": "stderr",
     "output_type": "stream",
     "text": [
      "2024-11-08 11:11:03.868200: W tensorflow/core/framework/cpu_allocator_impl.cc:82] Allocation of 1073741824 exceeds 10% of free system memory.\n",
      "2024-11-08 11:11:04.565740: W tensorflow/core/framework/cpu_allocator_impl.cc:82] Allocation of 1073741824 exceeds 10% of free system memory.\n",
      "2024-11-08 11:11:05.343398: W tensorflow/core/framework/cpu_allocator_impl.cc:82] Allocation of 1073741824 exceeds 10% of free system memory.\n",
      "2024-11-08 11:11:05.343476: W tensorflow/core/framework/cpu_allocator_impl.cc:82] Allocation of 1073741824 exceeds 10% of free system memory.\n",
      "2024-11-08 11:11:05.343546: W tensorflow/core/framework/cpu_allocator_impl.cc:82] Allocation of 1073741824 exceeds 10% of free system memory.\n"
     ]
    },
    {
     "name": "stdout",
     "output_type": "stream",
     "text": [
      "3D parameter restored\n"
     ]
    },
    {
     "name": "stderr",
     "output_type": "stream",
     "text": [
      "2024-11-08 11:11:17.239431: I tensorflow/stream_executor/cuda/cuda_dnn.cc:368] Loaded cuDNN version 8800\n",
      "2024-11-08 11:11:17.549771: I tensorflow/stream_executor/cuda/cuda_blas.cc:1786] TensorFloat-32 will be used for the matrix multiplication. This will only be logged once.\n"
     ]
    },
    {
     "name": "stdout",
     "output_type": "stream",
     "text": [
      "number: 1 successful\n",
      "Make reconstructed_1 folder to save 2D samples\n",
      "Make reconstructed_1 folder to save 3D samples\n",
      "number: 2 successful\n",
      "Make reconstructed_2 folder to save 2D samples\n",
      "Make reconstructed_2 folder to save 3D samples\n"
     ]
    }
   ],
   "source": [
    "import sys\n",
    "sys.path.append('.')  # ÇÊ¿äÇÑ °æ¿ì, ¸ðµâÀÌ ÀÖ´Â °æ·Î¸¦ ÁöÁ¤\n",
    "\n",
    "from config import FLAGS, generator_optimizer, discriminator_optimizer, col_val\n",
    "from models import generator_model_2D, discriminator_model_2D, generator_model_3D, discriminator_model_3D\n",
    "from data_loader import func_ge_A_data_3D\n",
    "from utils import ge_noise, img_smooth, l2_rec1_3D\n",
    "from test_mmr_gan import main\n",
    "\n",
    "main()"
   ]
  },
  {
   "cell_type": "code",
   "execution_count": null,
   "id": "05bf172d-724a-4739-a4dd-8c62046d93ce",
   "metadata": {},
   "outputs": [],
   "source": []
  }
 ],
 "metadata": {
  "kernelspec": {
   "display_name": "Python 3 (ipykernel)",
   "language": "python",
   "name": "python3"
  },
  "language_info": {
   "codemirror_mode": {
    "name": "ipython",
    "version": 3
   },
   "file_extension": ".py",
   "mimetype": "text/x-python",
   "name": "python",
   "nbconvert_exporter": "python",
   "pygments_lexer": "ipython3",
   "version": "3.9.7"
  }
 },
 "nbformat": 4,
 "nbformat_minor": 5
}
